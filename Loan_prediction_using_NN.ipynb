{
  "nbformat": 4,
  "nbformat_minor": 0,
  "metadata": {
    "colab": {
      "name": "Loan prediction using NN.ipynb",
      "provenance": [],
      "collapsed_sections": [],
      "authorship_tag": "ABX9TyNR1/e+UqtWNhrzVU/4S7H7",
      "include_colab_link": true
    },
    "kernelspec": {
      "name": "python3",
      "display_name": "Python 3"
    }
  },
  "cells": [
    {
      "cell_type": "markdown",
      "metadata": {
        "id": "view-in-github",
        "colab_type": "text"
      },
      "source": [
        "<a href=\"https://colab.research.google.com/github/Smitayan/Loan-Prediction/blob/master/Loan_prediction_using_NN.ipynb\" target=\"_parent\"><img src=\"https://colab.research.google.com/assets/colab-badge.svg\" alt=\"Open In Colab\"/></a>"
      ]
    },
    {
      "cell_type": "markdown",
      "metadata": {
        "id": "MK4EmnVYkvF5"
      },
      "source": [
        "Loan prediction problem using Keras"
      ]
    },
    {
      "cell_type": "code",
      "metadata": {
        "id": "i_rK8de4aSUk"
      },
      "source": [
        "import pandas as pd"
      ],
      "execution_count": null,
      "outputs": []
    },
    {
      "cell_type": "code",
      "metadata": {
        "id": "QgpSQ9c3amgz",
        "colab": {
          "base_uri": "https://localhost:8080/",
          "height": 35
        },
        "outputId": "23917332-8882-40cf-d5c2-6d75bd88e3a7"
      },
      "source": [
        "pd.__version__"
      ],
      "execution_count": null,
      "outputs": [
        {
          "output_type": "execute_result",
          "data": {
            "application/vnd.google.colaboratory.intrinsic+json": {
              "type": "string"
            },
            "text/plain": [
              "'1.0.5'"
            ]
          },
          "metadata": {
            "tags": []
          },
          "execution_count": 3
        }
      ]
    },
    {
      "cell_type": "code",
      "metadata": {
        "id": "eUFwKKGAariM"
      },
      "source": [
        "import os,sys"
      ],
      "execution_count": null,
      "outputs": []
    },
    {
      "cell_type": "code",
      "metadata": {
        "id": "loH7TbiNbhps",
        "colab": {
          "base_uri": "https://localhost:8080/",
          "height": 35
        },
        "outputId": "e5cafa51-fbd7-46bb-ca59-c0b07ab77d39"
      },
      "source": [
        "os.getcwd()"
      ],
      "execution_count": null,
      "outputs": [
        {
          "output_type": "execute_result",
          "data": {
            "application/vnd.google.colaboratory.intrinsic+json": {
              "type": "string"
            },
            "text/plain": [
              "'/content'"
            ]
          },
          "metadata": {
            "tags": []
          },
          "execution_count": 8
        }
      ]
    },
    {
      "cell_type": "code",
      "metadata": {
        "id": "OKznCTASc3wY"
      },
      "source": [
        "traindata = pd.read_csv('traincopy.csv')"
      ],
      "execution_count": null,
      "outputs": []
    },
    {
      "cell_type": "code",
      "metadata": {
        "id": "nVm257tOdCEd",
        "colab": {
          "base_uri": "https://localhost:8080/",
          "height": 232
        },
        "outputId": "6f4621b1-7c7b-4ffc-b308-dade61b97827"
      },
      "source": [
        "traindata.head()"
      ],
      "execution_count": null,
      "outputs": [
        {
          "output_type": "execute_result",
          "data": {
            "text/html": [
              "<div>\n",
              "<style scoped>\n",
              "    .dataframe tbody tr th:only-of-type {\n",
              "        vertical-align: middle;\n",
              "    }\n",
              "\n",
              "    .dataframe tbody tr th {\n",
              "        vertical-align: top;\n",
              "    }\n",
              "\n",
              "    .dataframe thead th {\n",
              "        text-align: right;\n",
              "    }\n",
              "</style>\n",
              "<table border=\"1\" class=\"dataframe\">\n",
              "  <thead>\n",
              "    <tr style=\"text-align: right;\">\n",
              "      <th></th>\n",
              "      <th>Loan_ID</th>\n",
              "      <th>Gender</th>\n",
              "      <th>Married</th>\n",
              "      <th>Dependents</th>\n",
              "      <th>Education</th>\n",
              "      <th>Self_Employed</th>\n",
              "      <th>ApplicantIncome</th>\n",
              "      <th>CoapplicantIncome</th>\n",
              "      <th>LoanAmount</th>\n",
              "      <th>Loan_Amount_Term</th>\n",
              "      <th>Credit_History</th>\n",
              "      <th>Property_Area</th>\n",
              "      <th>Loan_Status</th>\n",
              "      <th>TotalIncome</th>\n",
              "      <th>EMI</th>\n",
              "    </tr>\n",
              "  </thead>\n",
              "  <tbody>\n",
              "    <tr>\n",
              "      <th>0</th>\n",
              "      <td>LP001002</td>\n",
              "      <td>Male</td>\n",
              "      <td>No</td>\n",
              "      <td>0</td>\n",
              "      <td>Graduate</td>\n",
              "      <td>No</td>\n",
              "      <td>5849</td>\n",
              "      <td>0.0</td>\n",
              "      <td>4.857444</td>\n",
              "      <td>360.0</td>\n",
              "      <td>1.0</td>\n",
              "      <td>Urban</td>\n",
              "      <td>Y</td>\n",
              "      <td>8.674026</td>\n",
              "      <td>0.357486</td>\n",
              "    </tr>\n",
              "    <tr>\n",
              "      <th>1</th>\n",
              "      <td>LP001003</td>\n",
              "      <td>Male</td>\n",
              "      <td>Yes</td>\n",
              "      <td>1</td>\n",
              "      <td>Graduate</td>\n",
              "      <td>No</td>\n",
              "      <td>4583</td>\n",
              "      <td>1508.0</td>\n",
              "      <td>4.852030</td>\n",
              "      <td>360.0</td>\n",
              "      <td>1.0</td>\n",
              "      <td>Rural</td>\n",
              "      <td>N</td>\n",
              "      <td>8.714568</td>\n",
              "      <td>0.355556</td>\n",
              "    </tr>\n",
              "    <tr>\n",
              "      <th>2</th>\n",
              "      <td>LP001005</td>\n",
              "      <td>Male</td>\n",
              "      <td>Yes</td>\n",
              "      <td>0</td>\n",
              "      <td>Graduate</td>\n",
              "      <td>Yes</td>\n",
              "      <td>3000</td>\n",
              "      <td>0.0</td>\n",
              "      <td>4.189655</td>\n",
              "      <td>360.0</td>\n",
              "      <td>1.0</td>\n",
              "      <td>Urban</td>\n",
              "      <td>Y</td>\n",
              "      <td>8.006368</td>\n",
              "      <td>0.183333</td>\n",
              "    </tr>\n",
              "    <tr>\n",
              "      <th>3</th>\n",
              "      <td>LP001006</td>\n",
              "      <td>Male</td>\n",
              "      <td>Yes</td>\n",
              "      <td>0</td>\n",
              "      <td>Not Graduate</td>\n",
              "      <td>No</td>\n",
              "      <td>2583</td>\n",
              "      <td>2358.0</td>\n",
              "      <td>4.787492</td>\n",
              "      <td>360.0</td>\n",
              "      <td>1.0</td>\n",
              "      <td>Urban</td>\n",
              "      <td>Y</td>\n",
              "      <td>8.505323</td>\n",
              "      <td>0.333333</td>\n",
              "    </tr>\n",
              "    <tr>\n",
              "      <th>4</th>\n",
              "      <td>LP001008</td>\n",
              "      <td>Male</td>\n",
              "      <td>No</td>\n",
              "      <td>0</td>\n",
              "      <td>Graduate</td>\n",
              "      <td>No</td>\n",
              "      <td>6000</td>\n",
              "      <td>0.0</td>\n",
              "      <td>4.948760</td>\n",
              "      <td>360.0</td>\n",
              "      <td>1.0</td>\n",
              "      <td>Urban</td>\n",
              "      <td>Y</td>\n",
              "      <td>8.699515</td>\n",
              "      <td>0.391667</td>\n",
              "    </tr>\n",
              "  </tbody>\n",
              "</table>\n",
              "</div>"
            ],
            "text/plain": [
              "    Loan_ID Gender Married  ... Loan_Status TotalIncome       EMI\n",
              "0  LP001002   Male      No  ...           Y    8.674026  0.357486\n",
              "1  LP001003   Male     Yes  ...           N    8.714568  0.355556\n",
              "2  LP001005   Male     Yes  ...           Y    8.006368  0.183333\n",
              "3  LP001006   Male     Yes  ...           Y    8.505323  0.333333\n",
              "4  LP001008   Male      No  ...           Y    8.699515  0.391667\n",
              "\n",
              "[5 rows x 15 columns]"
            ]
          },
          "metadata": {
            "tags": []
          },
          "execution_count": 14
        }
      ]
    },
    {
      "cell_type": "code",
      "metadata": {
        "id": "peYETfXGdTNo"
      },
      "source": [
        "testdata = pd.read_csv('testcopy.csv')"
      ],
      "execution_count": null,
      "outputs": []
    },
    {
      "cell_type": "code",
      "metadata": {
        "id": "gMTZcNK3dcyf",
        "colab": {
          "base_uri": "https://localhost:8080/",
          "height": 232
        },
        "outputId": "b197fe8b-3cd5-4c89-e5df-f6e82d7161ac"
      },
      "source": [
        "testdata.head()"
      ],
      "execution_count": null,
      "outputs": [
        {
          "output_type": "execute_result",
          "data": {
            "text/html": [
              "<div>\n",
              "<style scoped>\n",
              "    .dataframe tbody tr th:only-of-type {\n",
              "        vertical-align: middle;\n",
              "    }\n",
              "\n",
              "    .dataframe tbody tr th {\n",
              "        vertical-align: top;\n",
              "    }\n",
              "\n",
              "    .dataframe thead th {\n",
              "        text-align: right;\n",
              "    }\n",
              "</style>\n",
              "<table border=\"1\" class=\"dataframe\">\n",
              "  <thead>\n",
              "    <tr style=\"text-align: right;\">\n",
              "      <th></th>\n",
              "      <th>Loan_ID</th>\n",
              "      <th>Gender</th>\n",
              "      <th>Married</th>\n",
              "      <th>Dependents</th>\n",
              "      <th>Education</th>\n",
              "      <th>Self_Employed</th>\n",
              "      <th>ApplicantIncome</th>\n",
              "      <th>CoapplicantIncome</th>\n",
              "      <th>LoanAmount</th>\n",
              "      <th>Loan_Amount_Term</th>\n",
              "      <th>Credit_History</th>\n",
              "      <th>Property_Area</th>\n",
              "      <th>TotalIncome</th>\n",
              "      <th>EMI</th>\n",
              "    </tr>\n",
              "  </thead>\n",
              "  <tbody>\n",
              "    <tr>\n",
              "      <th>0</th>\n",
              "      <td>LP001015</td>\n",
              "      <td>Male</td>\n",
              "      <td>Yes</td>\n",
              "      <td>0</td>\n",
              "      <td>Graduate</td>\n",
              "      <td>No</td>\n",
              "      <td>5720</td>\n",
              "      <td>0</td>\n",
              "      <td>4.700480</td>\n",
              "      <td>360.0</td>\n",
              "      <td>1.0</td>\n",
              "      <td>Urban</td>\n",
              "      <td>8.651724</td>\n",
              "      <td>0.305556</td>\n",
              "    </tr>\n",
              "    <tr>\n",
              "      <th>1</th>\n",
              "      <td>LP001022</td>\n",
              "      <td>Male</td>\n",
              "      <td>Yes</td>\n",
              "      <td>1</td>\n",
              "      <td>Graduate</td>\n",
              "      <td>No</td>\n",
              "      <td>3076</td>\n",
              "      <td>1500</td>\n",
              "      <td>4.836282</td>\n",
              "      <td>360.0</td>\n",
              "      <td>1.0</td>\n",
              "      <td>Urban</td>\n",
              "      <td>8.428581</td>\n",
              "      <td>0.350000</td>\n",
              "    </tr>\n",
              "    <tr>\n",
              "      <th>2</th>\n",
              "      <td>LP001031</td>\n",
              "      <td>Male</td>\n",
              "      <td>Yes</td>\n",
              "      <td>2</td>\n",
              "      <td>Graduate</td>\n",
              "      <td>No</td>\n",
              "      <td>5000</td>\n",
              "      <td>1800</td>\n",
              "      <td>5.337538</td>\n",
              "      <td>360.0</td>\n",
              "      <td>1.0</td>\n",
              "      <td>Urban</td>\n",
              "      <td>8.824678</td>\n",
              "      <td>0.577778</td>\n",
              "    </tr>\n",
              "    <tr>\n",
              "      <th>3</th>\n",
              "      <td>LP001035</td>\n",
              "      <td>Male</td>\n",
              "      <td>Yes</td>\n",
              "      <td>2</td>\n",
              "      <td>Graduate</td>\n",
              "      <td>No</td>\n",
              "      <td>2340</td>\n",
              "      <td>2546</td>\n",
              "      <td>4.605170</td>\n",
              "      <td>360.0</td>\n",
              "      <td>1.0</td>\n",
              "      <td>Urban</td>\n",
              "      <td>8.494129</td>\n",
              "      <td>0.277778</td>\n",
              "    </tr>\n",
              "    <tr>\n",
              "      <th>4</th>\n",
              "      <td>LP001051</td>\n",
              "      <td>Male</td>\n",
              "      <td>No</td>\n",
              "      <td>0</td>\n",
              "      <td>Not Graduate</td>\n",
              "      <td>No</td>\n",
              "      <td>3276</td>\n",
              "      <td>0</td>\n",
              "      <td>4.356709</td>\n",
              "      <td>360.0</td>\n",
              "      <td>1.0</td>\n",
              "      <td>Urban</td>\n",
              "      <td>8.094378</td>\n",
              "      <td>0.216667</td>\n",
              "    </tr>\n",
              "  </tbody>\n",
              "</table>\n",
              "</div>"
            ],
            "text/plain": [
              "    Loan_ID Gender Married  ... Property_Area TotalIncome       EMI\n",
              "0  LP001015   Male     Yes  ...         Urban    8.651724  0.305556\n",
              "1  LP001022   Male     Yes  ...         Urban    8.428581  0.350000\n",
              "2  LP001031   Male     Yes  ...         Urban    8.824678  0.577778\n",
              "3  LP001035   Male     Yes  ...         Urban    8.494129  0.277778\n",
              "4  LP001051   Male      No  ...         Urban    8.094378  0.216667\n",
              "\n",
              "[5 rows x 14 columns]"
            ]
          },
          "metadata": {
            "tags": []
          },
          "execution_count": 16
        }
      ]
    },
    {
      "cell_type": "code",
      "metadata": {
        "id": "-FglMeE1dhCZ",
        "colab": {
          "base_uri": "https://localhost:8080/",
          "height": 286
        },
        "outputId": "22c5dd31-2ddd-4665-e072-85c27be130ac"
      },
      "source": [
        "traindata.isnull().sum()"
      ],
      "execution_count": null,
      "outputs": [
        {
          "output_type": "execute_result",
          "data": {
            "text/plain": [
              "Loan_ID              0\n",
              "Gender               0\n",
              "Married              0\n",
              "Dependents           0\n",
              "Education            0\n",
              "Self_Employed        0\n",
              "ApplicantIncome      0\n",
              "CoapplicantIncome    0\n",
              "LoanAmount           0\n",
              "Loan_Amount_Term     0\n",
              "Credit_History       0\n",
              "Property_Area        0\n",
              "Loan_Status          0\n",
              "TotalIncome          0\n",
              "EMI                  0\n",
              "dtype: int64"
            ]
          },
          "metadata": {
            "tags": []
          },
          "execution_count": 18
        }
      ]
    },
    {
      "cell_type": "code",
      "metadata": {
        "id": "fwOGgsYOeJHt",
        "colab": {
          "base_uri": "https://localhost:8080/",
          "height": 34
        },
        "outputId": "597151eb-b40f-4c6d-be87-6bcbc06cc6ec"
      },
      "source": [
        "traindata.shape"
      ],
      "execution_count": null,
      "outputs": [
        {
          "output_type": "execute_result",
          "data": {
            "text/plain": [
              "(614, 15)"
            ]
          },
          "metadata": {
            "tags": []
          },
          "execution_count": 20
        }
      ]
    },
    {
      "cell_type": "code",
      "metadata": {
        "id": "f3PxDC1zeNhw",
        "colab": {
          "base_uri": "https://localhost:8080/",
          "height": 34
        },
        "outputId": "584ef3b1-800f-47de-87e3-ca514b9c4362"
      },
      "source": [
        "testdata.shape"
      ],
      "execution_count": null,
      "outputs": [
        {
          "output_type": "execute_result",
          "data": {
            "text/plain": [
              "(367, 14)"
            ]
          },
          "metadata": {
            "tags": []
          },
          "execution_count": 21
        }
      ]
    },
    {
      "cell_type": "code",
      "metadata": {
        "id": "w6SGYWiseROQ",
        "colab": {
          "base_uri": "https://localhost:8080/",
          "height": 286
        },
        "outputId": "87b6eb77-78c7-414c-9783-d17332fecbcd"
      },
      "source": [
        "traindata.dtypes"
      ],
      "execution_count": null,
      "outputs": [
        {
          "output_type": "execute_result",
          "data": {
            "text/plain": [
              "Loan_ID               object\n",
              "Gender                object\n",
              "Married               object\n",
              "Dependents            object\n",
              "Education             object\n",
              "Self_Employed         object\n",
              "ApplicantIncome        int64\n",
              "CoapplicantIncome    float64\n",
              "LoanAmount           float64\n",
              "Loan_Amount_Term     float64\n",
              "Credit_History       float64\n",
              "Property_Area         object\n",
              "Loan_Status           object\n",
              "TotalIncome          float64\n",
              "EMI                  float64\n",
              "dtype: object"
            ]
          },
          "metadata": {
            "tags": []
          },
          "execution_count": 22
        }
      ]
    },
    {
      "cell_type": "code",
      "metadata": {
        "id": "orwah3XEemPO"
      },
      "source": [
        "traindata['Gender']=traindata['Gender'].map({'Male':1,'Female':0})"
      ],
      "execution_count": null,
      "outputs": []
    },
    {
      "cell_type": "code",
      "metadata": {
        "id": "ityBapsSgoBl"
      },
      "source": [
        "traindata['Married']=traindata['Married'].map({'Yes':1,'No':0})"
      ],
      "execution_count": null,
      "outputs": []
    },
    {
      "cell_type": "code",
      "metadata": {
        "id": "sx-XrkANg5db"
      },
      "source": [
        "traindata['Dependents']=traindata['Dependents'].map({'0':0,'1':1,'2':2,'3+':3})"
      ],
      "execution_count": null,
      "outputs": []
    },
    {
      "cell_type": "code",
      "metadata": {
        "id": "wj14g0YrhS8F"
      },
      "source": [
        "traindata['Education']=traindata['Education'].map({'Not Graduate':0,'Graduate':1})"
      ],
      "execution_count": null,
      "outputs": []
    },
    {
      "cell_type": "code",
      "metadata": {
        "id": "tW9IzVEHhsPW"
      },
      "source": [
        "traindata['Self_Employed']=traindata['Self_Employed'].map({'Yes':1,'No':0})"
      ],
      "execution_count": null,
      "outputs": []
    },
    {
      "cell_type": "code",
      "metadata": {
        "id": "ixbohvOMiKC6"
      },
      "source": [
        "traindata['Property_Area']=traindata['Property_Area'].map({'Rural':0,'Semiurban':1,'Urban':2})"
      ],
      "execution_count": null,
      "outputs": []
    },
    {
      "cell_type": "code",
      "metadata": {
        "id": "C6nxoILtivj-"
      },
      "source": [
        "traindata['Loan_Status']=traindata['Loan_Status'].map({'Y':1,'N':0})"
      ],
      "execution_count": null,
      "outputs": []
    },
    {
      "cell_type": "code",
      "metadata": {
        "id": "szWtlvxifGXF",
        "colab": {
          "base_uri": "https://localhost:8080/",
          "height": 215
        },
        "outputId": "93d2b764-2841-4c39-bca3-bec100a68e75"
      },
      "source": [
        "traindata.head()"
      ],
      "execution_count": null,
      "outputs": [
        {
          "output_type": "execute_result",
          "data": {
            "text/html": [
              "<div>\n",
              "<style scoped>\n",
              "    .dataframe tbody tr th:only-of-type {\n",
              "        vertical-align: middle;\n",
              "    }\n",
              "\n",
              "    .dataframe tbody tr th {\n",
              "        vertical-align: top;\n",
              "    }\n",
              "\n",
              "    .dataframe thead th {\n",
              "        text-align: right;\n",
              "    }\n",
              "</style>\n",
              "<table border=\"1\" class=\"dataframe\">\n",
              "  <thead>\n",
              "    <tr style=\"text-align: right;\">\n",
              "      <th></th>\n",
              "      <th>Loan_ID</th>\n",
              "      <th>Gender</th>\n",
              "      <th>Married</th>\n",
              "      <th>Dependents</th>\n",
              "      <th>Education</th>\n",
              "      <th>Self_Employed</th>\n",
              "      <th>ApplicantIncome</th>\n",
              "      <th>CoapplicantIncome</th>\n",
              "      <th>LoanAmount</th>\n",
              "      <th>Loan_Amount_Term</th>\n",
              "      <th>Credit_History</th>\n",
              "      <th>Property_Area</th>\n",
              "      <th>Loan_Status</th>\n",
              "      <th>TotalIncome</th>\n",
              "      <th>EMI</th>\n",
              "    </tr>\n",
              "  </thead>\n",
              "  <tbody>\n",
              "    <tr>\n",
              "      <th>0</th>\n",
              "      <td>LP001002</td>\n",
              "      <td>1</td>\n",
              "      <td>0</td>\n",
              "      <td>0</td>\n",
              "      <td>1</td>\n",
              "      <td>0</td>\n",
              "      <td>5849</td>\n",
              "      <td>0.0</td>\n",
              "      <td>4.857444</td>\n",
              "      <td>360.0</td>\n",
              "      <td>1.0</td>\n",
              "      <td>2</td>\n",
              "      <td>1</td>\n",
              "      <td>8.674026</td>\n",
              "      <td>0.357486</td>\n",
              "    </tr>\n",
              "    <tr>\n",
              "      <th>1</th>\n",
              "      <td>LP001003</td>\n",
              "      <td>1</td>\n",
              "      <td>1</td>\n",
              "      <td>1</td>\n",
              "      <td>1</td>\n",
              "      <td>0</td>\n",
              "      <td>4583</td>\n",
              "      <td>1508.0</td>\n",
              "      <td>4.852030</td>\n",
              "      <td>360.0</td>\n",
              "      <td>1.0</td>\n",
              "      <td>0</td>\n",
              "      <td>0</td>\n",
              "      <td>8.714568</td>\n",
              "      <td>0.355556</td>\n",
              "    </tr>\n",
              "    <tr>\n",
              "      <th>2</th>\n",
              "      <td>LP001005</td>\n",
              "      <td>1</td>\n",
              "      <td>1</td>\n",
              "      <td>0</td>\n",
              "      <td>1</td>\n",
              "      <td>1</td>\n",
              "      <td>3000</td>\n",
              "      <td>0.0</td>\n",
              "      <td>4.189655</td>\n",
              "      <td>360.0</td>\n",
              "      <td>1.0</td>\n",
              "      <td>2</td>\n",
              "      <td>1</td>\n",
              "      <td>8.006368</td>\n",
              "      <td>0.183333</td>\n",
              "    </tr>\n",
              "    <tr>\n",
              "      <th>3</th>\n",
              "      <td>LP001006</td>\n",
              "      <td>1</td>\n",
              "      <td>1</td>\n",
              "      <td>0</td>\n",
              "      <td>0</td>\n",
              "      <td>0</td>\n",
              "      <td>2583</td>\n",
              "      <td>2358.0</td>\n",
              "      <td>4.787492</td>\n",
              "      <td>360.0</td>\n",
              "      <td>1.0</td>\n",
              "      <td>2</td>\n",
              "      <td>1</td>\n",
              "      <td>8.505323</td>\n",
              "      <td>0.333333</td>\n",
              "    </tr>\n",
              "    <tr>\n",
              "      <th>4</th>\n",
              "      <td>LP001008</td>\n",
              "      <td>1</td>\n",
              "      <td>0</td>\n",
              "      <td>0</td>\n",
              "      <td>1</td>\n",
              "      <td>0</td>\n",
              "      <td>6000</td>\n",
              "      <td>0.0</td>\n",
              "      <td>4.948760</td>\n",
              "      <td>360.0</td>\n",
              "      <td>1.0</td>\n",
              "      <td>2</td>\n",
              "      <td>1</td>\n",
              "      <td>8.699515</td>\n",
              "      <td>0.391667</td>\n",
              "    </tr>\n",
              "  </tbody>\n",
              "</table>\n",
              "</div>"
            ],
            "text/plain": [
              "    Loan_ID  Gender  Married  ...  Loan_Status  TotalIncome       EMI\n",
              "0  LP001002       1        0  ...            1     8.674026  0.357486\n",
              "1  LP001003       1        1  ...            0     8.714568  0.355556\n",
              "2  LP001005       1        1  ...            1     8.006368  0.183333\n",
              "3  LP001006       1        1  ...            1     8.505323  0.333333\n",
              "4  LP001008       1        0  ...            1     8.699515  0.391667\n",
              "\n",
              "[5 rows x 15 columns]"
            ]
          },
          "metadata": {
            "tags": []
          },
          "execution_count": 51
        }
      ]
    },
    {
      "cell_type": "code",
      "metadata": {
        "id": "Mq8eoEfxjbTr"
      },
      "source": [
        "testdata['Gender']=testdata['Gender'].map({'Male':1,'Female':0})\n",
        "testdata['Married']=testdata['Married'].map({'Yes':1,'No':0})\n",
        "testdata['Dependents']=testdata['Dependents'].map({'0':0,'1':1,'2':2,'3+':3})\n",
        "testdata['Education']=testdata['Education'].map({'Not Graduate':0,'Graduate':1})\n",
        "testdata['Self_Employed']=testdata['Self_Employed'].map({'Yes':1,'No':0})\n",
        "testdata['Property_Area']=testdata['Property_Area'].map({'Rural':0,'Semiurban':1,'Urban':2})"
      ],
      "execution_count": null,
      "outputs": []
    },
    {
      "cell_type": "code",
      "metadata": {
        "id": "fou7IB9WkGWq",
        "colab": {
          "base_uri": "https://localhost:8080/",
          "height": 215
        },
        "outputId": "4f85b33e-c9f9-4620-e478-d464dee9ce0c"
      },
      "source": [
        "testdata.head()"
      ],
      "execution_count": null,
      "outputs": [
        {
          "output_type": "execute_result",
          "data": {
            "text/html": [
              "<div>\n",
              "<style scoped>\n",
              "    .dataframe tbody tr th:only-of-type {\n",
              "        vertical-align: middle;\n",
              "    }\n",
              "\n",
              "    .dataframe tbody tr th {\n",
              "        vertical-align: top;\n",
              "    }\n",
              "\n",
              "    .dataframe thead th {\n",
              "        text-align: right;\n",
              "    }\n",
              "</style>\n",
              "<table border=\"1\" class=\"dataframe\">\n",
              "  <thead>\n",
              "    <tr style=\"text-align: right;\">\n",
              "      <th></th>\n",
              "      <th>Loan_ID</th>\n",
              "      <th>Gender</th>\n",
              "      <th>Married</th>\n",
              "      <th>Dependents</th>\n",
              "      <th>Education</th>\n",
              "      <th>Self_Employed</th>\n",
              "      <th>ApplicantIncome</th>\n",
              "      <th>CoapplicantIncome</th>\n",
              "      <th>LoanAmount</th>\n",
              "      <th>Loan_Amount_Term</th>\n",
              "      <th>Credit_History</th>\n",
              "      <th>Property_Area</th>\n",
              "      <th>TotalIncome</th>\n",
              "      <th>EMI</th>\n",
              "    </tr>\n",
              "  </thead>\n",
              "  <tbody>\n",
              "    <tr>\n",
              "      <th>0</th>\n",
              "      <td>LP001015</td>\n",
              "      <td>1</td>\n",
              "      <td>1</td>\n",
              "      <td>0</td>\n",
              "      <td>1</td>\n",
              "      <td>0</td>\n",
              "      <td>5720</td>\n",
              "      <td>0</td>\n",
              "      <td>4.700480</td>\n",
              "      <td>360.0</td>\n",
              "      <td>1.0</td>\n",
              "      <td>2</td>\n",
              "      <td>8.651724</td>\n",
              "      <td>0.305556</td>\n",
              "    </tr>\n",
              "    <tr>\n",
              "      <th>1</th>\n",
              "      <td>LP001022</td>\n",
              "      <td>1</td>\n",
              "      <td>1</td>\n",
              "      <td>1</td>\n",
              "      <td>1</td>\n",
              "      <td>0</td>\n",
              "      <td>3076</td>\n",
              "      <td>1500</td>\n",
              "      <td>4.836282</td>\n",
              "      <td>360.0</td>\n",
              "      <td>1.0</td>\n",
              "      <td>2</td>\n",
              "      <td>8.428581</td>\n",
              "      <td>0.350000</td>\n",
              "    </tr>\n",
              "    <tr>\n",
              "      <th>2</th>\n",
              "      <td>LP001031</td>\n",
              "      <td>1</td>\n",
              "      <td>1</td>\n",
              "      <td>2</td>\n",
              "      <td>1</td>\n",
              "      <td>0</td>\n",
              "      <td>5000</td>\n",
              "      <td>1800</td>\n",
              "      <td>5.337538</td>\n",
              "      <td>360.0</td>\n",
              "      <td>1.0</td>\n",
              "      <td>2</td>\n",
              "      <td>8.824678</td>\n",
              "      <td>0.577778</td>\n",
              "    </tr>\n",
              "    <tr>\n",
              "      <th>3</th>\n",
              "      <td>LP001035</td>\n",
              "      <td>1</td>\n",
              "      <td>1</td>\n",
              "      <td>2</td>\n",
              "      <td>1</td>\n",
              "      <td>0</td>\n",
              "      <td>2340</td>\n",
              "      <td>2546</td>\n",
              "      <td>4.605170</td>\n",
              "      <td>360.0</td>\n",
              "      <td>1.0</td>\n",
              "      <td>2</td>\n",
              "      <td>8.494129</td>\n",
              "      <td>0.277778</td>\n",
              "    </tr>\n",
              "    <tr>\n",
              "      <th>4</th>\n",
              "      <td>LP001051</td>\n",
              "      <td>1</td>\n",
              "      <td>0</td>\n",
              "      <td>0</td>\n",
              "      <td>0</td>\n",
              "      <td>0</td>\n",
              "      <td>3276</td>\n",
              "      <td>0</td>\n",
              "      <td>4.356709</td>\n",
              "      <td>360.0</td>\n",
              "      <td>1.0</td>\n",
              "      <td>2</td>\n",
              "      <td>8.094378</td>\n",
              "      <td>0.216667</td>\n",
              "    </tr>\n",
              "  </tbody>\n",
              "</table>\n",
              "</div>"
            ],
            "text/plain": [
              "    Loan_ID  Gender  Married  ...  Property_Area  TotalIncome       EMI\n",
              "0  LP001015       1        1  ...              2     8.651724  0.305556\n",
              "1  LP001022       1        1  ...              2     8.428581  0.350000\n",
              "2  LP001031       1        1  ...              2     8.824678  0.577778\n",
              "3  LP001035       1        1  ...              2     8.494129  0.277778\n",
              "4  LP001051       1        0  ...              2     8.094378  0.216667\n",
              "\n",
              "[5 rows x 14 columns]"
            ]
          },
          "metadata": {
            "tags": []
          },
          "execution_count": 53
        }
      ]
    },
    {
      "cell_type": "code",
      "metadata": {
        "id": "jAI5qaWPk9Hg"
      },
      "source": [
        "traindata = traindata.drop('Loan_ID',axis=1)"
      ],
      "execution_count": null,
      "outputs": []
    },
    {
      "cell_type": "code",
      "metadata": {
        "id": "onYtG41mlIAy",
        "colab": {
          "base_uri": "https://localhost:8080/",
          "height": 34
        },
        "outputId": "28d8a059-c715-4d84-d8b8-98ebb5f0ca86"
      },
      "source": [
        "traindata.shape"
      ],
      "execution_count": null,
      "outputs": [
        {
          "output_type": "execute_result",
          "data": {
            "text/plain": [
              "(614, 14)"
            ]
          },
          "metadata": {
            "tags": []
          },
          "execution_count": 55
        }
      ]
    },
    {
      "cell_type": "code",
      "metadata": {
        "id": "vnsOTe_IlOzr"
      },
      "source": [
        "testdata = testdata.drop('Loan_ID',axis=1)"
      ],
      "execution_count": null,
      "outputs": []
    },
    {
      "cell_type": "code",
      "metadata": {
        "id": "upkxtFgRlZDT"
      },
      "source": [
        "traindata=(traindata-traindata.min())/(traindata.max()-traindata.min())"
      ],
      "execution_count": null,
      "outputs": []
    },
    {
      "cell_type": "code",
      "metadata": {
        "id": "xNWYEXJtl0-i"
      },
      "source": [
        "testdata=(testdata-testdata.min())/(testdata.max()-testdata.min())"
      ],
      "execution_count": null,
      "outputs": []
    },
    {
      "cell_type": "code",
      "metadata": {
        "id": "I4sDLhpal-dU",
        "colab": {
          "base_uri": "https://localhost:8080/",
          "height": 215
        },
        "outputId": "894a3c63-ba50-46bb-c00f-0c5d6b6172c9"
      },
      "source": [
        "traindata.head()"
      ],
      "execution_count": null,
      "outputs": [
        {
          "output_type": "execute_result",
          "data": {
            "text/html": [
              "<div>\n",
              "<style scoped>\n",
              "    .dataframe tbody tr th:only-of-type {\n",
              "        vertical-align: middle;\n",
              "    }\n",
              "\n",
              "    .dataframe tbody tr th {\n",
              "        vertical-align: top;\n",
              "    }\n",
              "\n",
              "    .dataframe thead th {\n",
              "        text-align: right;\n",
              "    }\n",
              "</style>\n",
              "<table border=\"1\" class=\"dataframe\">\n",
              "  <thead>\n",
              "    <tr style=\"text-align: right;\">\n",
              "      <th></th>\n",
              "      <th>Gender</th>\n",
              "      <th>Married</th>\n",
              "      <th>Dependents</th>\n",
              "      <th>Education</th>\n",
              "      <th>Self_Employed</th>\n",
              "      <th>ApplicantIncome</th>\n",
              "      <th>CoapplicantIncome</th>\n",
              "      <th>LoanAmount</th>\n",
              "      <th>Loan_Amount_Term</th>\n",
              "      <th>Credit_History</th>\n",
              "      <th>Property_Area</th>\n",
              "      <th>Loan_Status</th>\n",
              "      <th>TotalIncome</th>\n",
              "      <th>EMI</th>\n",
              "    </tr>\n",
              "  </thead>\n",
              "  <tbody>\n",
              "    <tr>\n",
              "      <th>0</th>\n",
              "      <td>1.0</td>\n",
              "      <td>0.0</td>\n",
              "      <td>0.000000</td>\n",
              "      <td>1.0</td>\n",
              "      <td>0.0</td>\n",
              "      <td>0.070489</td>\n",
              "      <td>0.000000</td>\n",
              "      <td>0.611003</td>\n",
              "      <td>0.74359</td>\n",
              "      <td>1.0</td>\n",
              "      <td>1.0</td>\n",
              "      <td>1.0</td>\n",
              "      <td>0.347590</td>\n",
              "      <td>0.036042</td>\n",
              "    </tr>\n",
              "    <tr>\n",
              "      <th>1</th>\n",
              "      <td>1.0</td>\n",
              "      <td>1.0</td>\n",
              "      <td>0.333333</td>\n",
              "      <td>1.0</td>\n",
              "      <td>0.0</td>\n",
              "      <td>0.054830</td>\n",
              "      <td>0.036192</td>\n",
              "      <td>0.609760</td>\n",
              "      <td>0.74359</td>\n",
              "      <td>1.0</td>\n",
              "      <td>0.0</td>\n",
              "      <td>0.0</td>\n",
              "      <td>0.357654</td>\n",
              "      <td>0.035833</td>\n",
              "    </tr>\n",
              "    <tr>\n",
              "      <th>2</th>\n",
              "      <td>1.0</td>\n",
              "      <td>1.0</td>\n",
              "      <td>0.000000</td>\n",
              "      <td>1.0</td>\n",
              "      <td>1.0</td>\n",
              "      <td>0.035250</td>\n",
              "      <td>0.000000</td>\n",
              "      <td>0.457624</td>\n",
              "      <td>0.74359</td>\n",
              "      <td>1.0</td>\n",
              "      <td>1.0</td>\n",
              "      <td>1.0</td>\n",
              "      <td>0.181853</td>\n",
              "      <td>0.017164</td>\n",
              "    </tr>\n",
              "    <tr>\n",
              "      <th>3</th>\n",
              "      <td>1.0</td>\n",
              "      <td>1.0</td>\n",
              "      <td>0.000000</td>\n",
              "      <td>0.0</td>\n",
              "      <td>0.0</td>\n",
              "      <td>0.030093</td>\n",
              "      <td>0.056592</td>\n",
              "      <td>0.594936</td>\n",
              "      <td>0.74359</td>\n",
              "      <td>1.0</td>\n",
              "      <td>1.0</td>\n",
              "      <td>1.0</td>\n",
              "      <td>0.305712</td>\n",
              "      <td>0.033424</td>\n",
              "    </tr>\n",
              "    <tr>\n",
              "      <th>4</th>\n",
              "      <td>1.0</td>\n",
              "      <td>0.0</td>\n",
              "      <td>0.000000</td>\n",
              "      <td>1.0</td>\n",
              "      <td>0.0</td>\n",
              "      <td>0.072356</td>\n",
              "      <td>0.000000</td>\n",
              "      <td>0.631977</td>\n",
              "      <td>0.74359</td>\n",
              "      <td>1.0</td>\n",
              "      <td>1.0</td>\n",
              "      <td>1.0</td>\n",
              "      <td>0.353918</td>\n",
              "      <td>0.039747</td>\n",
              "    </tr>\n",
              "  </tbody>\n",
              "</table>\n",
              "</div>"
            ],
            "text/plain": [
              "   Gender  Married  Dependents  ...  Loan_Status  TotalIncome       EMI\n",
              "0     1.0      0.0    0.000000  ...          1.0     0.347590  0.036042\n",
              "1     1.0      1.0    0.333333  ...          0.0     0.357654  0.035833\n",
              "2     1.0      1.0    0.000000  ...          1.0     0.181853  0.017164\n",
              "3     1.0      1.0    0.000000  ...          1.0     0.305712  0.033424\n",
              "4     1.0      0.0    0.000000  ...          1.0     0.353918  0.039747\n",
              "\n",
              "[5 rows x 14 columns]"
            ]
          },
          "metadata": {
            "tags": []
          },
          "execution_count": 60
        }
      ]
    },
    {
      "cell_type": "code",
      "metadata": {
        "id": "ZkP2oubJmGcz"
      },
      "source": [
        "import sklearn"
      ],
      "execution_count": null,
      "outputs": []
    },
    {
      "cell_type": "code",
      "metadata": {
        "id": "7i69CZKiozL3"
      },
      "source": [
        "from sklearn.model_selection import train_test_split"
      ],
      "execution_count": null,
      "outputs": []
    },
    {
      "cell_type": "code",
      "metadata": {
        "id": "3SFUewcpr2tp"
      },
      "source": [
        "from sklearn.metrics import auc"
      ],
      "execution_count": null,
      "outputs": []
    },
    {
      "cell_type": "code",
      "metadata": {
        "id": "udZdXwKD_GfL"
      },
      "source": [
        "from sklearn.metrics import accuracy_score"
      ],
      "execution_count": null,
      "outputs": []
    },
    {
      "cell_type": "code",
      "metadata": {
        "id": "YctfWSRSsVQW",
        "colab": {
          "base_uri": "https://localhost:8080/",
          "height": 34
        },
        "outputId": "5cec8975-8bf4-46db-a2dd-e2bf181921f9"
      },
      "source": [
        "import keras"
      ],
      "execution_count": null,
      "outputs": [
        {
          "output_type": "stream",
          "text": [
            "Using TensorFlow backend.\n"
          ],
          "name": "stderr"
        }
      ]
    },
    {
      "cell_type": "code",
      "metadata": {
        "id": "KrWHkDh6unom"
      },
      "source": [
        "Y=traindata['Loan_Status']\n",
        "X=traindata.drop('Loan_Status',axis=1)"
      ],
      "execution_count": null,
      "outputs": []
    },
    {
      "cell_type": "code",
      "metadata": {
        "id": "7xxx4nyevIun"
      },
      "source": [
        "X_train,X_validation,Y_train,Y_validation=train_test_split(X,Y,test_size=0.2,random_state=10,stratify=traindata['Loan_Status'])"
      ],
      "execution_count": null,
      "outputs": []
    },
    {
      "cell_type": "code",
      "metadata": {
        "id": "lBLwsvy2weDG",
        "colab": {
          "base_uri": "https://localhost:8080/",
          "height": 34
        },
        "outputId": "fa6c8563-684b-44ea-b049-ec4cc475e9fb"
      },
      "source": [
        "X_train.shape"
      ],
      "execution_count": null,
      "outputs": [
        {
          "output_type": "execute_result",
          "data": {
            "text/plain": [
              "(491, 13)"
            ]
          },
          "metadata": {
            "tags": []
          },
          "execution_count": 69
        }
      ]
    },
    {
      "cell_type": "code",
      "metadata": {
        "id": "BtRf5nY3whzp",
        "colab": {
          "base_uri": "https://localhost:8080/",
          "height": 34
        },
        "outputId": "96f2d1ac-93bb-4d55-c9c9-1ca33c2e833b"
      },
      "source": [
        "X_validation.shape"
      ],
      "execution_count": null,
      "outputs": [
        {
          "output_type": "execute_result",
          "data": {
            "text/plain": [
              "(123, 13)"
            ]
          },
          "metadata": {
            "tags": []
          },
          "execution_count": 70
        }
      ]
    },
    {
      "cell_type": "code",
      "metadata": {
        "id": "MGmhr0jvxSfW"
      },
      "source": [
        "from keras.models import Sequential\n",
        "from keras.layers import Dense\n",
        "from keras.layers import InputLayer"
      ],
      "execution_count": null,
      "outputs": []
    },
    {
      "cell_type": "code",
      "metadata": {
        "id": "nKm5eE6u7hKp",
        "colab": {
          "base_uri": "https://localhost:8080/",
          "height": 34
        },
        "outputId": "81a92221-f5ff-43db-f668-6ca17edd763b"
      },
      "source": [
        "X_train.shape[1]"
      ],
      "execution_count": null,
      "outputs": [
        {
          "output_type": "execute_result",
          "data": {
            "text/plain": [
              "13"
            ]
          },
          "metadata": {
            "tags": []
          },
          "execution_count": 80
        }
      ]
    },
    {
      "cell_type": "code",
      "metadata": {
        "id": "SgHkyhN93GVT"
      },
      "source": [
        "input_neurons = X_train.shape[1]\n",
        "output_neurons = 1\n",
        "number_of_hidden_layers=2\n",
        "number_of_neurons_1=5\n",
        "number_of_neurons_2=5"
      ],
      "execution_count": null,
      "outputs": []
    },
    {
      "cell_type": "code",
      "metadata": {
        "id": "czKLh2iR4B6Z"
      },
      "source": [
        "model = Sequential()\n",
        "model.add(InputLayer(input_shape=(input_neurons,)))\n",
        "model.add(Dense(number_of_neurons_1,activation='relu'))\n",
        "model.add(Dense(number_of_neurons_2,activation='relu'))\n",
        "model.add(Dense(output_neurons,activation='sigmoid'))\n"
      ],
      "execution_count": null,
      "outputs": []
    },
    {
      "cell_type": "code",
      "metadata": {
        "id": "fAvaHx5T77TR",
        "colab": {
          "base_uri": "https://localhost:8080/",
          "height": 252
        },
        "outputId": "979d7eac-de00-4cd7-9bc2-2be7b9ed0fd8"
      },
      "source": [
        "model.summary()"
      ],
      "execution_count": null,
      "outputs": [
        {
          "output_type": "stream",
          "text": [
            "Model: \"sequential_4\"\n",
            "_________________________________________________________________\n",
            "Layer (type)                 Output Shape              Param #   \n",
            "=================================================================\n",
            "dense_1 (Dense)              (None, 5)                 70        \n",
            "_________________________________________________________________\n",
            "dense_2 (Dense)              (None, 5)                 30        \n",
            "_________________________________________________________________\n",
            "dense_3 (Dense)              (None, 1)                 6         \n",
            "=================================================================\n",
            "Total params: 106\n",
            "Trainable params: 106\n",
            "Non-trainable params: 0\n",
            "_________________________________________________________________\n"
          ],
          "name": "stdout"
        }
      ]
    },
    {
      "cell_type": "code",
      "metadata": {
        "id": "hxIvmncv8gyc"
      },
      "source": [
        "model.compile(optimizer='Adam',loss='binary_crossentropy',metrics=['accuracy'])"
      ],
      "execution_count": null,
      "outputs": []
    },
    {
      "cell_type": "code",
      "metadata": {
        "id": "mEPLpcPh92AU",
        "colab": {
          "base_uri": "https://localhost:8080/",
          "height": 1000
        },
        "outputId": "34fa9e50-0788-40c3-d0f0-c52193452f1b"
      },
      "source": [
        "model.history=model.fit(X_train,Y_train,validation_data=(X_validation,Y_validation),epochs=50)"
      ],
      "execution_count": null,
      "outputs": [
        {
          "output_type": "stream",
          "text": [
            "Train on 491 samples, validate on 123 samples\n",
            "Epoch 1/50\n",
            "491/491 [==============================] - 0s 726us/step - loss: 0.8198 - accuracy: 0.2648 - val_loss: 0.7979 - val_accuracy: 0.2276\n",
            "Epoch 2/50\n",
            "491/491 [==============================] - 0s 57us/step - loss: 0.7657 - accuracy: 0.3340 - val_loss: 0.7478 - val_accuracy: 0.4309\n",
            "Epoch 3/50\n",
            "491/491 [==============================] - 0s 59us/step - loss: 0.7235 - accuracy: 0.4725 - val_loss: 0.7092 - val_accuracy: 0.5447\n",
            "Epoch 4/50\n",
            "491/491 [==============================] - 0s 48us/step - loss: 0.6901 - accuracy: 0.5906 - val_loss: 0.6860 - val_accuracy: 0.6260\n",
            "Epoch 5/50\n",
            "491/491 [==============================] - 0s 48us/step - loss: 0.6708 - accuracy: 0.6436 - val_loss: 0.6701 - val_accuracy: 0.6504\n",
            "Epoch 6/50\n",
            "491/491 [==============================] - 0s 47us/step - loss: 0.6589 - accuracy: 0.6578 - val_loss: 0.6608 - val_accuracy: 0.6829\n",
            "Epoch 7/50\n",
            "491/491 [==============================] - 0s 48us/step - loss: 0.6513 - accuracy: 0.6802 - val_loss: 0.6546 - val_accuracy: 0.6748\n",
            "Epoch 8/50\n",
            "491/491 [==============================] - 0s 49us/step - loss: 0.6467 - accuracy: 0.6823 - val_loss: 0.6491 - val_accuracy: 0.6829\n",
            "Epoch 9/50\n",
            "491/491 [==============================] - 0s 48us/step - loss: 0.6427 - accuracy: 0.6884 - val_loss: 0.6451 - val_accuracy: 0.6829\n",
            "Epoch 10/50\n",
            "491/491 [==============================] - 0s 51us/step - loss: 0.6398 - accuracy: 0.6904 - val_loss: 0.6416 - val_accuracy: 0.6829\n",
            "Epoch 11/50\n",
            "491/491 [==============================] - 0s 47us/step - loss: 0.6368 - accuracy: 0.6904 - val_loss: 0.6390 - val_accuracy: 0.6829\n",
            "Epoch 12/50\n",
            "491/491 [==============================] - 0s 54us/step - loss: 0.6345 - accuracy: 0.6904 - val_loss: 0.6365 - val_accuracy: 0.6829\n",
            "Epoch 13/50\n",
            "491/491 [==============================] - 0s 51us/step - loss: 0.6323 - accuracy: 0.6904 - val_loss: 0.6344 - val_accuracy: 0.6911\n",
            "Epoch 14/50\n",
            "491/491 [==============================] - 0s 51us/step - loss: 0.6303 - accuracy: 0.6904 - val_loss: 0.6323 - val_accuracy: 0.6911\n",
            "Epoch 15/50\n",
            "491/491 [==============================] - 0s 51us/step - loss: 0.6288 - accuracy: 0.6884 - val_loss: 0.6305 - val_accuracy: 0.6911\n",
            "Epoch 16/50\n",
            "491/491 [==============================] - 0s 54us/step - loss: 0.6269 - accuracy: 0.6884 - val_loss: 0.6294 - val_accuracy: 0.6911\n",
            "Epoch 17/50\n",
            "491/491 [==============================] - 0s 55us/step - loss: 0.6256 - accuracy: 0.6884 - val_loss: 0.6282 - val_accuracy: 0.6911\n",
            "Epoch 18/50\n",
            "491/491 [==============================] - 0s 46us/step - loss: 0.6245 - accuracy: 0.6884 - val_loss: 0.6270 - val_accuracy: 0.6911\n",
            "Epoch 19/50\n",
            "491/491 [==============================] - 0s 50us/step - loss: 0.6236 - accuracy: 0.6884 - val_loss: 0.6260 - val_accuracy: 0.6911\n",
            "Epoch 20/50\n",
            "491/491 [==============================] - 0s 54us/step - loss: 0.6225 - accuracy: 0.6884 - val_loss: 0.6252 - val_accuracy: 0.6911\n",
            "Epoch 21/50\n",
            "491/491 [==============================] - 0s 54us/step - loss: 0.6216 - accuracy: 0.6884 - val_loss: 0.6245 - val_accuracy: 0.6911\n",
            "Epoch 22/50\n",
            "491/491 [==============================] - 0s 51us/step - loss: 0.6206 - accuracy: 0.6864 - val_loss: 0.6238 - val_accuracy: 0.6911\n",
            "Epoch 23/50\n",
            "491/491 [==============================] - 0s 51us/step - loss: 0.6195 - accuracy: 0.6864 - val_loss: 0.6232 - val_accuracy: 0.6911\n",
            "Epoch 24/50\n",
            "491/491 [==============================] - 0s 49us/step - loss: 0.6187 - accuracy: 0.6864 - val_loss: 0.6225 - val_accuracy: 0.6911\n",
            "Epoch 25/50\n",
            "491/491 [==============================] - 0s 49us/step - loss: 0.6177 - accuracy: 0.6864 - val_loss: 0.6221 - val_accuracy: 0.6911\n",
            "Epoch 26/50\n",
            "491/491 [==============================] - 0s 49us/step - loss: 0.6160 - accuracy: 0.6864 - val_loss: 0.6215 - val_accuracy: 0.6911\n",
            "Epoch 27/50\n",
            "491/491 [==============================] - 0s 51us/step - loss: 0.6138 - accuracy: 0.6864 - val_loss: 0.6202 - val_accuracy: 0.6911\n",
            "Epoch 28/50\n",
            "491/491 [==============================] - 0s 48us/step - loss: 0.6112 - accuracy: 0.6864 - val_loss: 0.6180 - val_accuracy: 0.6911\n",
            "Epoch 29/50\n",
            "491/491 [==============================] - 0s 48us/step - loss: 0.6073 - accuracy: 0.6884 - val_loss: 0.6152 - val_accuracy: 0.6911\n",
            "Epoch 30/50\n",
            "491/491 [==============================] - 0s 47us/step - loss: 0.6027 - accuracy: 0.6904 - val_loss: 0.6114 - val_accuracy: 0.6911\n",
            "Epoch 31/50\n",
            "491/491 [==============================] - 0s 46us/step - loss: 0.5973 - accuracy: 0.6904 - val_loss: 0.6076 - val_accuracy: 0.6911\n",
            "Epoch 32/50\n",
            "491/491 [==============================] - 0s 52us/step - loss: 0.5921 - accuracy: 0.6904 - val_loss: 0.6033 - val_accuracy: 0.6911\n",
            "Epoch 33/50\n",
            "491/491 [==============================] - 0s 51us/step - loss: 0.5865 - accuracy: 0.6884 - val_loss: 0.5988 - val_accuracy: 0.6911\n",
            "Epoch 34/50\n",
            "491/491 [==============================] - 0s 49us/step - loss: 0.5808 - accuracy: 0.6904 - val_loss: 0.5939 - val_accuracy: 0.6992\n",
            "Epoch 35/50\n",
            "491/491 [==============================] - 0s 50us/step - loss: 0.5748 - accuracy: 0.7047 - val_loss: 0.5885 - val_accuracy: 0.7073\n",
            "Epoch 36/50\n",
            "491/491 [==============================] - 0s 51us/step - loss: 0.5702 - accuracy: 0.7169 - val_loss: 0.5838 - val_accuracy: 0.7154\n",
            "Epoch 37/50\n",
            "491/491 [==============================] - 0s 47us/step - loss: 0.5615 - accuracy: 0.7210 - val_loss: 0.5776 - val_accuracy: 0.7154\n",
            "Epoch 38/50\n",
            "491/491 [==============================] - 0s 47us/step - loss: 0.5543 - accuracy: 0.7230 - val_loss: 0.5723 - val_accuracy: 0.7236\n",
            "Epoch 39/50\n",
            "491/491 [==============================] - 0s 46us/step - loss: 0.5460 - accuracy: 0.7475 - val_loss: 0.5653 - val_accuracy: 0.7236\n",
            "Epoch 40/50\n",
            "491/491 [==============================] - 0s 49us/step - loss: 0.5377 - accuracy: 0.7597 - val_loss: 0.5585 - val_accuracy: 0.7398\n",
            "Epoch 41/50\n",
            "491/491 [==============================] - 0s 46us/step - loss: 0.5308 - accuracy: 0.7739 - val_loss: 0.5529 - val_accuracy: 0.7480\n",
            "Epoch 42/50\n",
            "491/491 [==============================] - 0s 49us/step - loss: 0.5237 - accuracy: 0.7841 - val_loss: 0.5489 - val_accuracy: 0.7398\n",
            "Epoch 43/50\n",
            "491/491 [==============================] - 0s 50us/step - loss: 0.5179 - accuracy: 0.7963 - val_loss: 0.5433 - val_accuracy: 0.7805\n",
            "Epoch 44/50\n",
            "491/491 [==============================] - 0s 53us/step - loss: 0.5123 - accuracy: 0.8065 - val_loss: 0.5389 - val_accuracy: 0.7805\n",
            "Epoch 45/50\n",
            "491/491 [==============================] - 0s 48us/step - loss: 0.5074 - accuracy: 0.8126 - val_loss: 0.5337 - val_accuracy: 0.7805\n",
            "Epoch 46/50\n",
            "491/491 [==============================] - 0s 47us/step - loss: 0.5031 - accuracy: 0.8126 - val_loss: 0.5296 - val_accuracy: 0.7805\n",
            "Epoch 47/50\n",
            "491/491 [==============================] - 0s 50us/step - loss: 0.4980 - accuracy: 0.8147 - val_loss: 0.5256 - val_accuracy: 0.7967\n",
            "Epoch 48/50\n",
            "491/491 [==============================] - 0s 48us/step - loss: 0.4951 - accuracy: 0.8147 - val_loss: 0.5227 - val_accuracy: 0.7886\n",
            "Epoch 49/50\n",
            "491/491 [==============================] - 0s 47us/step - loss: 0.4903 - accuracy: 0.8147 - val_loss: 0.5186 - val_accuracy: 0.7967\n",
            "Epoch 50/50\n",
            "491/491 [==============================] - 0s 47us/step - loss: 0.4895 - accuracy: 0.8147 - val_loss: 0.5158 - val_accuracy: 0.8049\n"
          ],
          "name": "stdout"
        }
      ]
    },
    {
      "cell_type": "code",
      "metadata": {
        "id": "0v8dRwIB-aHO"
      },
      "source": [
        "prediction=model.predict(X_validation)"
      ],
      "execution_count": null,
      "outputs": []
    },
    {
      "cell_type": "code",
      "metadata": {
        "id": "-u4cn-OW_SsZ",
        "colab": {
          "base_uri": "https://localhost:8080/",
          "height": 1000
        },
        "outputId": "5d8112a2-3954-4561-8814-a4a5814c92a2"
      },
      "source": [
        "prediction"
      ],
      "execution_count": null,
      "outputs": [
        {
          "output_type": "execute_result",
          "data": {
            "text/plain": [
              "array([[0.7618104 ],\n",
              "       [0.56325877],\n",
              "       [0.7638428 ],\n",
              "       [0.70528877],\n",
              "       [0.8092128 ],\n",
              "       [0.64562464],\n",
              "       [0.8268769 ],\n",
              "       [0.7534634 ],\n",
              "       [0.8018917 ],\n",
              "       [0.7048726 ],\n",
              "       [0.7337692 ],\n",
              "       [0.69071376],\n",
              "       [0.73076975],\n",
              "       [0.820415  ],\n",
              "       [0.66281044],\n",
              "       [0.8132173 ],\n",
              "       [0.637219  ],\n",
              "       [0.8039637 ],\n",
              "       [0.7023    ],\n",
              "       [0.6347399 ],\n",
              "       [0.6856583 ],\n",
              "       [0.80718845],\n",
              "       [0.6964394 ],\n",
              "       [0.7307582 ],\n",
              "       [0.75426495],\n",
              "       [0.77315855],\n",
              "       [0.7566459 ],\n",
              "       [0.698712  ],\n",
              "       [0.6329205 ],\n",
              "       [0.71818626],\n",
              "       [0.8191305 ],\n",
              "       [0.8341757 ],\n",
              "       [0.78394485],\n",
              "       [0.15135878],\n",
              "       [0.3009978 ],\n",
              "       [0.3314131 ],\n",
              "       [0.60487545],\n",
              "       [0.81405187],\n",
              "       [0.76239765],\n",
              "       [0.85963225],\n",
              "       [0.78390527],\n",
              "       [0.5543648 ],\n",
              "       [0.81517565],\n",
              "       [0.7767601 ],\n",
              "       [0.2529084 ],\n",
              "       [0.83624136],\n",
              "       [0.71486026],\n",
              "       [0.54074746],\n",
              "       [0.7539305 ],\n",
              "       [0.43023536],\n",
              "       [0.8147733 ],\n",
              "       [0.7557454 ],\n",
              "       [0.7523767 ],\n",
              "       [0.8199695 ],\n",
              "       [0.82881343],\n",
              "       [0.49279445],\n",
              "       [0.8468457 ],\n",
              "       [0.7526313 ],\n",
              "       [0.3096624 ],\n",
              "       [0.71733147],\n",
              "       [0.7115947 ],\n",
              "       [0.7043257 ],\n",
              "       [0.71863675],\n",
              "       [0.77097315],\n",
              "       [0.7536664 ],\n",
              "       [0.75301164],\n",
              "       [0.82627183],\n",
              "       [0.51306117],\n",
              "       [0.83489335],\n",
              "       [0.7023909 ],\n",
              "       [0.3687822 ],\n",
              "       [0.755591  ],\n",
              "       [0.83077407],\n",
              "       [0.6697792 ],\n",
              "       [0.6937528 ],\n",
              "       [0.77727234],\n",
              "       [0.7566241 ],\n",
              "       [0.68623435],\n",
              "       [0.67344975],\n",
              "       [0.20083514],\n",
              "       [0.82256484],\n",
              "       [0.6966026 ],\n",
              "       [0.8340175 ],\n",
              "       [0.6905358 ],\n",
              "       [0.6095266 ],\n",
              "       [0.33488923],\n",
              "       [0.7176757 ],\n",
              "       [0.82582307],\n",
              "       [0.6960189 ],\n",
              "       [0.83304405],\n",
              "       [0.75285333],\n",
              "       [0.82271504],\n",
              "       [0.8136569 ],\n",
              "       [0.4259203 ],\n",
              "       [0.6617602 ],\n",
              "       [0.80624896],\n",
              "       [0.78544044],\n",
              "       [0.2296755 ],\n",
              "       [0.7736188 ],\n",
              "       [0.8270755 ],\n",
              "       [0.8150515 ],\n",
              "       [0.6779007 ],\n",
              "       [0.7464532 ],\n",
              "       [0.78285503],\n",
              "       [0.59623855],\n",
              "       [0.68089694],\n",
              "       [0.84171486],\n",
              "       [0.73724353],\n",
              "       [0.84043956],\n",
              "       [0.7583706 ],\n",
              "       [0.33969492],\n",
              "       [0.64189404],\n",
              "       [0.7840974 ],\n",
              "       [0.17412609],\n",
              "       [0.21709368],\n",
              "       [0.75845194],\n",
              "       [0.8056364 ],\n",
              "       [0.77778506],\n",
              "       [0.6913673 ],\n",
              "       [0.75515175],\n",
              "       [0.699995  ],\n",
              "       [0.2229881 ],\n",
              "       [0.8504861 ]], dtype=float32)"
            ]
          },
          "metadata": {
            "tags": []
          },
          "execution_count": 93
        }
      ]
    },
    {
      "cell_type": "code",
      "metadata": {
        "id": "C5iWAcNA-wHz",
        "colab": {
          "base_uri": "https://localhost:8080/",
          "height": 303
        },
        "outputId": "255ffc18-0f80-4755-9288-f96da1396b05"
      },
      "source": [
        "accuracy_score(Y_validation,prediction)"
      ],
      "execution_count": null,
      "outputs": [
        {
          "output_type": "error",
          "ename": "ValueError",
          "evalue": "ignored",
          "traceback": [
            "\u001b[0;31m---------------------------------------------------------------------------\u001b[0m",
            "\u001b[0;31mValueError\u001b[0m                                Traceback (most recent call last)",
            "\u001b[0;32m<ipython-input-92-5d0b90d7878b>\u001b[0m in \u001b[0;36m<module>\u001b[0;34m()\u001b[0m\n\u001b[0;32m----> 1\u001b[0;31m \u001b[0maccuracy_score\u001b[0m\u001b[0;34m(\u001b[0m\u001b[0mY_validation\u001b[0m\u001b[0;34m,\u001b[0m\u001b[0mprediction\u001b[0m\u001b[0;34m)\u001b[0m\u001b[0;34m\u001b[0m\u001b[0;34m\u001b[0m\u001b[0m\n\u001b[0m",
            "\u001b[0;32m/usr/local/lib/python3.6/dist-packages/sklearn/metrics/_classification.py\u001b[0m in \u001b[0;36maccuracy_score\u001b[0;34m(y_true, y_pred, normalize, sample_weight)\u001b[0m\n\u001b[1;32m    183\u001b[0m \u001b[0;34m\u001b[0m\u001b[0m\n\u001b[1;32m    184\u001b[0m     \u001b[0;31m# Compute accuracy for each possible representation\u001b[0m\u001b[0;34m\u001b[0m\u001b[0;34m\u001b[0m\u001b[0;34m\u001b[0m\u001b[0m\n\u001b[0;32m--> 185\u001b[0;31m     \u001b[0my_type\u001b[0m\u001b[0;34m,\u001b[0m \u001b[0my_true\u001b[0m\u001b[0;34m,\u001b[0m \u001b[0my_pred\u001b[0m \u001b[0;34m=\u001b[0m \u001b[0m_check_targets\u001b[0m\u001b[0;34m(\u001b[0m\u001b[0my_true\u001b[0m\u001b[0;34m,\u001b[0m \u001b[0my_pred\u001b[0m\u001b[0;34m)\u001b[0m\u001b[0;34m\u001b[0m\u001b[0;34m\u001b[0m\u001b[0m\n\u001b[0m\u001b[1;32m    186\u001b[0m     \u001b[0mcheck_consistent_length\u001b[0m\u001b[0;34m(\u001b[0m\u001b[0my_true\u001b[0m\u001b[0;34m,\u001b[0m \u001b[0my_pred\u001b[0m\u001b[0;34m,\u001b[0m \u001b[0msample_weight\u001b[0m\u001b[0;34m)\u001b[0m\u001b[0;34m\u001b[0m\u001b[0;34m\u001b[0m\u001b[0m\n\u001b[1;32m    187\u001b[0m     \u001b[0;32mif\u001b[0m \u001b[0my_type\u001b[0m\u001b[0;34m.\u001b[0m\u001b[0mstartswith\u001b[0m\u001b[0;34m(\u001b[0m\u001b[0;34m'multilabel'\u001b[0m\u001b[0;34m)\u001b[0m\u001b[0;34m:\u001b[0m\u001b[0;34m\u001b[0m\u001b[0;34m\u001b[0m\u001b[0m\n",
            "\u001b[0;32m/usr/local/lib/python3.6/dist-packages/sklearn/metrics/_classification.py\u001b[0m in \u001b[0;36m_check_targets\u001b[0;34m(y_true, y_pred)\u001b[0m\n\u001b[1;32m     88\u001b[0m     \u001b[0;32mif\u001b[0m \u001b[0mlen\u001b[0m\u001b[0;34m(\u001b[0m\u001b[0my_type\u001b[0m\u001b[0;34m)\u001b[0m \u001b[0;34m>\u001b[0m \u001b[0;36m1\u001b[0m\u001b[0;34m:\u001b[0m\u001b[0;34m\u001b[0m\u001b[0;34m\u001b[0m\u001b[0m\n\u001b[1;32m     89\u001b[0m         raise ValueError(\"Classification metrics can't handle a mix of {0} \"\n\u001b[0;32m---> 90\u001b[0;31m                          \"and {1} targets\".format(type_true, type_pred))\n\u001b[0m\u001b[1;32m     91\u001b[0m \u001b[0;34m\u001b[0m\u001b[0m\n\u001b[1;32m     92\u001b[0m     \u001b[0;31m# We can't have more than one value on y_type => The set is no more needed\u001b[0m\u001b[0;34m\u001b[0m\u001b[0;34m\u001b[0m\u001b[0;34m\u001b[0m\u001b[0m\n",
            "\u001b[0;31mValueError\u001b[0m: Classification metrics can't handle a mix of binary and continuous targets"
          ]
        }
      ]
    }
  ]
}